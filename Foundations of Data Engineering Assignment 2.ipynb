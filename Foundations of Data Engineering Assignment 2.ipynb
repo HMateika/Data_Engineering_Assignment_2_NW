{
 "cells": [
  {
   "cell_type": "code",
   "execution_count": 1,
   "id": "49681fa5",
   "metadata": {},
   "outputs": [],
   "source": [
    "import numpy as np\n",
    "import pandas as pd\n",
    "import seaborn as sns\n",
    "import matplotlib.pyplot as plt\n",
    "import time"
   ]
  },
  {
   "cell_type": "code",
   "execution_count": 2,
   "id": "65210a81",
   "metadata": {},
   "outputs": [],
   "source": [
    "np.random.seed(1000)\n",
    "first_array = list(np.random.randint(1,100000, 5000))\n",
    "second_array = list(np.random.randint(1,100000, 10000))\n",
    "third_array = list(np.random.randint(1,100000, 15000))\n",
    "fourth_array = list(np.random.randint(1,100000, 20000))\n",
    "fifth_array = list(np.random.randint(1,100000, 25000))"
   ]
  },
  {
   "cell_type": "code",
   "execution_count": 3,
   "id": "7bb78347",
   "metadata": {},
   "outputs": [],
   "source": [
    "np.random.seed(1000)\n",
    "first_array_float = list(np.random.uniform(1,100000, 5000))\n",
    "second_array_float = list(np.random.uniform(1,100000,10000))\n",
    "third_array_float = list(np.random.uniform(1,100000, 15000))\n",
    "fourth_array_float = list(np.random.uniform(1,100000,20000))\n",
    "fifth_array_float = list(np.random.uniform(1,100000,25000))"
   ]
  },
  {
   "cell_type": "code",
   "execution_count": 4,
   "id": "f64fe5f5",
   "metadata": {},
   "outputs": [],
   "source": [
    "combined_integer_arrays = np.array([first_array, second_array, third_array, fourth_array, fifth_array], dtype=object)"
   ]
  },
  {
   "cell_type": "code",
   "execution_count": 5,
   "id": "41b6f4e1",
   "metadata": {},
   "outputs": [],
   "source": [
    "sizes = []\n",
    "for x in combined_integer_arrays:\n",
    "    size = len(x)\n",
    "    sizes.append(size)"
   ]
  },
  {
   "cell_type": "code",
   "execution_count": 6,
   "id": "54062fab",
   "metadata": {},
   "outputs": [],
   "source": [
    "combined_float_arrays = np.array([first_array_float, second_array_float, third_array_float, fourth_array_float, fifth_array_float], dtype=object)"
   ]
  },
  {
   "cell_type": "code",
   "execution_count": 7,
   "id": "9787ebc5",
   "metadata": {},
   "outputs": [],
   "source": [
    "#Create the selection sort algorithm\n",
    "def findSmallest(arr):\n",
    "  smallest = arr[0]\n",
    "  smallest_index = 0\n",
    "  for i in range(1, len(arr)):\n",
    "    if arr[i] < smallest:\n",
    "      smallest_index = i\n",
    "      smallest = arr[i]      \n",
    "  return smallest_index\n",
    "\n",
    "def selectionSort(arr):\n",
    "  newArr = []\n",
    "  for i in range(len(arr)):\n",
    "      smallest = findSmallest(arr)\n",
    "      newArr.append(arr.pop(smallest))\n",
    "  return newArr"
   ]
  },
  {
   "cell_type": "code",
   "execution_count": 8,
   "id": "d8371a4d",
   "metadata": {},
   "outputs": [],
   "source": [
    "#Get integer array sort times with selection sort\n",
    "sort_runtimes = []\n",
    "for x in combined_integer_arrays:\n",
    "    start_time = time.time()\n",
    "    selectionSort(x)\n",
    "    runtime = time.time() - start_time\n",
    "    sort_runtimes.append(runtime*1000)"
   ]
  },
  {
   "cell_type": "code",
   "execution_count": 9,
   "id": "47f36f9a",
   "metadata": {},
   "outputs": [
    {
     "data": {
      "text/plain": [
       "[1231.0972213745117,\n",
       " 4845.776081085205,\n",
       " 11231.122732162476,\n",
       " 20099.90382194519,\n",
       " 31580.683708190918]"
      ]
     },
     "execution_count": 9,
     "metadata": {},
     "output_type": "execute_result"
    }
   ],
   "source": [
    "sort_runtimes"
   ]
  },
  {
   "cell_type": "code",
   "execution_count": 10,
   "id": "cd2481c3",
   "metadata": {},
   "outputs": [],
   "source": [
    "#Get float array sort times with selection sort\n",
    "sort_float_runtimes = []\n",
    "for x in combined_float_arrays:\n",
    "    start_time = time.time()\n",
    "    selectionSort(x)\n",
    "    runtime = time.time() - start_time\n",
    "    sort_float_runtimes.append(runtime*1000)"
   ]
  },
  {
   "cell_type": "code",
   "execution_count": 11,
   "id": "acf8621b",
   "metadata": {},
   "outputs": [
    {
     "data": {
      "text/plain": [
       "[1256.4730644226074,\n",
       " 4737.545967102051,\n",
       " 10668.453216552734,\n",
       " 18907.964944839478,\n",
       " 29798.102140426636]"
      ]
     },
     "execution_count": 11,
     "metadata": {},
     "output_type": "execute_result"
    }
   ],
   "source": [
    "sort_float_runtimes"
   ]
  },
  {
   "cell_type": "code",
   "execution_count": 12,
   "id": "07fc78d5",
   "metadata": {},
   "outputs": [
    {
     "data": {
      "text/html": [
       "<div>\n",
       "<style scoped>\n",
       "    .dataframe tbody tr th:only-of-type {\n",
       "        vertical-align: middle;\n",
       "    }\n",
       "\n",
       "    .dataframe tbody tr th {\n",
       "        vertical-align: top;\n",
       "    }\n",
       "\n",
       "    .dataframe thead th {\n",
       "        text-align: right;\n",
       "    }\n",
       "</style>\n",
       "<table border=\"1\" class=\"dataframe\">\n",
       "  <thead>\n",
       "    <tr style=\"text-align: right;\">\n",
       "      <th></th>\n",
       "      <th>Sizes</th>\n",
       "      <th>Sort Integer Time</th>\n",
       "      <th>Sort Float Time</th>\n",
       "    </tr>\n",
       "  </thead>\n",
       "  <tbody>\n",
       "    <tr>\n",
       "      <th>0</th>\n",
       "      <td>5000</td>\n",
       "      <td>1231.097221</td>\n",
       "      <td>1256.473064</td>\n",
       "    </tr>\n",
       "    <tr>\n",
       "      <th>1</th>\n",
       "      <td>10000</td>\n",
       "      <td>4845.776081</td>\n",
       "      <td>4737.545967</td>\n",
       "    </tr>\n",
       "    <tr>\n",
       "      <th>2</th>\n",
       "      <td>15000</td>\n",
       "      <td>11231.122732</td>\n",
       "      <td>10668.453217</td>\n",
       "    </tr>\n",
       "    <tr>\n",
       "      <th>3</th>\n",
       "      <td>20000</td>\n",
       "      <td>20099.903822</td>\n",
       "      <td>18907.964945</td>\n",
       "    </tr>\n",
       "    <tr>\n",
       "      <th>4</th>\n",
       "      <td>25000</td>\n",
       "      <td>31580.683708</td>\n",
       "      <td>29798.102140</td>\n",
       "    </tr>\n",
       "  </tbody>\n",
       "</table>\n",
       "</div>"
      ],
      "text/plain": [
       "   Sizes  Sort Integer Time  Sort Float Time\n",
       "0   5000        1231.097221      1256.473064\n",
       "1  10000        4845.776081      4737.545967\n",
       "2  15000       11231.122732     10668.453217\n",
       "3  20000       20099.903822     18907.964945\n",
       "4  25000       31580.683708     29798.102140"
      ]
     },
     "execution_count": 12,
     "metadata": {},
     "output_type": "execute_result"
    }
   ],
   "source": [
    "data = {'Sizes': sizes, 'Sort Integer Time': sort_runtimes, 'Sort Float Time': sort_float_runtimes}\n",
    "df = pd.DataFrame(data = data)\n",
    "df"
   ]
  },
  {
   "cell_type": "code",
   "execution_count": 15,
   "id": "332a4da9",
   "metadata": {},
   "outputs": [
    {
     "data": {
      "image/png": "[encoded data removed]",
      "text/plain": [
       "<Figure size 1000x1000 with 1 Axes>"
      ]
     },
     "metadata": {
      "needs_background": "light"
     },
     "output_type": "display_data"
    }
   ],
   "source": [
    "plt.figure(figsize=(10, 10), dpi=100)\n",
    "plt.plot(df['Sizes'], df['Sort Integer Time'], label = 'Integer');\n",
    "plt.plot(df['Sizes'], df['Sort Float Time'], label = 'Float');\n",
    "plt.legend();"
   ]
  },
  {
   "cell_type": "markdown",
   "id": "ea069ff8",
   "metadata": {},
   "source": [
    "# Executive Summary\n",
    "\n",
    "## For this experiment I decided took five randomized arrays that were uniformly distributed. These five arrays varied in sizes: 5000, 10000, 15000, 20000, 25000. I created two versions of these arrays, one version had an integer data type while the other had a floating data type.\n",
    "\n",
    "## To sort these algorithms, I implemented selection sort. The selection sort algorithm utilizes a different function that finds the smallest item in an array. This function works by comparing each number in an array with the previous smallest number. Once that function is implemented the algorithm adds the item to a list, removes the smallest item from the array and loops through the array again and implements the find smallest function.\n",
    "\n",
    "## The results of implementing this algorithm on both versions of the five arrays were interesting. The algorithm ran similarily on both versions. It's runtime started at 1.2 seconds for both at 5000, grew to 4.8 for integer and 4.7 for float at 10000, ballooned to 11.2 and 10.6 at 15000, continued growing to 20 and 18.9 at 20000, and topped off at 31.5 and 29.7 seconds at 25000. What's clear is that the runtime of the selection sort is growing exponentially as the size of the arrays get bigger. Furthermore, the data shows, with the exception of the first runtime, that float data types perform slightly quicker than integer data types. However, the difference is very small, but perhaps if both continued to grow exponentially the difference would be quite larger.\n",
    "\n",
    "## This, of course, does relate to Big O notation mainly because the big O notation for the selection sort algorithm is labelled to be O(n^2). This isn't a huge surprise based on the graph that is given. It is quite amazing to see though that no matter the data types used, the pattern of the algorithm will still largely follow this notation.\n",
    "\n",
    "## In terms of data engineering as a whole this sorting algorithm could be very useful. Sorting values is an important function of many data engineering tasks. It is useful to know not only how an algorithm generally performs, but also how much quicker one data type can be over another. If I were a data engineer that had to use a selection sort algorithm, based on this instance of results, I would say to probably use a floating point data type to increase speed."
   ]
  }
 ],
 "metadata": {
  "kernelspec": {
   "display_name": "Python 3 (ipykernel)",
   "language": "python",
   "name": "python3"
  },
  "language_info": {
   "codemirror_mode": {
    "name": "ipython",
    "version": 3
   },
   "file_extension": ".py",
   "mimetype": "text/x-python",
   "name": "python",
   "nbconvert_exporter": "python",
   "pygments_lexer": "ipython3",
   "version": "3.9.7"
  }
 },
 "nbformat": 4,
 "nbformat_minor": 5
}
